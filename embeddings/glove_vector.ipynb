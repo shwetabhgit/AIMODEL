{
  "nbformat": 4,
  "nbformat_minor": 0,
  "metadata": {
    "colab": {
      "provenance": []
    },
    "kernelspec": {
      "name": "python3",
      "display_name": "Python 3"
    },
    "language_info": {
      "name": "python"
    }
  },
  "cells": [
    {
      "cell_type": "code",
      "execution_count": 1,
      "metadata": {
        "colab": {
          "base_uri": "https://localhost:8080/"
        },
        "id": "67Iwbmo4kUUZ",
        "outputId": "499ccecd-b16c-4126-baec-b839e728335e"
      },
      "outputs": [
        {
          "output_type": "stream",
          "name": "stdout",
          "text": [
            "Requirement already satisfied: gensim in /usr/local/lib/python3.11/dist-packages (4.3.3)\n",
            "Requirement already satisfied: numpy<2.0,>=1.18.5 in /usr/local/lib/python3.11/dist-packages (from gensim) (1.26.4)\n",
            "Requirement already satisfied: scipy<1.14.0,>=1.7.0 in /usr/local/lib/python3.11/dist-packages (from gensim) (1.13.1)\n",
            "Requirement already satisfied: smart-open>=1.8.1 in /usr/local/lib/python3.11/dist-packages (from gensim) (7.3.0)\n",
            "Requirement already satisfied: wrapt in /usr/local/lib/python3.11/dist-packages (from smart-open>=1.8.1->gensim) (1.17.2)\n",
            "[==================================================] 100.0% 128.1/128.1MB downloaded\n",
            "Embedding for 'example':\n",
            "[-0.12617    0.61724    0.22581    0.39868    0.16111    0.1523\n",
            " -0.14715   -0.29447   -0.27348   -0.13753   -0.20898   -0.73436\n",
            "  0.14144    0.15048    0.09179    0.018613   0.22539    0.15979\n",
            " -0.16935    0.42716    0.042284  -0.3477    -0.11413    0.12222\n",
            " -0.025027  -0.20805   -0.067264  -0.2956    -0.30807   -0.32903\n",
            "  0.19059    0.77141   -0.19332   -0.31069    0.26745    0.32231\n",
            "  0.2065     0.10497    0.49425   -0.38322   -0.12802   -0.069906\n",
            " -0.14828    0.085369  -0.18141    0.14688    0.60968   -0.21131\n",
            " -0.29148   -0.52773    0.59508    0.017369   0.15342    0.81925\n",
            " -0.20643   -2.0378    -0.11884   -0.16826    1.5288     0.15756\n",
            " -0.4994     0.39305    0.12672   -0.10968    1.3671    -0.21006\n",
            "  0.15684    0.0063801  0.43836   -0.18765   -0.29088    0.18619\n",
            "  0.085402   0.13985    0.40794   -0.14811    0.26702   -0.19142\n",
            " -0.6189     0.0091217  0.34971   -0.24079   -0.52476   -0.25071\n",
            " -1.5681     0.22101    0.046796  -0.62616   -0.043358  -0.42865\n",
            " -0.0057843 -0.22611    0.074171   0.091597  -0.40751   -0.08359\n",
            " -0.48413   -1.0718     0.52827    0.058813 ]\n",
            "Dimension: 100\n",
            "Type: <class 'numpy.ndarray'>\n",
            "Shape: (100,)\n"
          ]
        }
      ],
      "source": [
        "!pip install gensim\n",
        "import gensim.downloader as api\n",
        "\n",
        "# Download and load the pre-trained GloVe model\n",
        "model = api.load(\"glove-wiki-gigaword-100\")  # You can choose different dimensions like 50, 100, 200, 300\n",
        "\n",
        "# Example usage: get the embedding for a word\n",
        "word = 'example'\n",
        "embedding = model[word]\n",
        "\n",
        "print(f\"Embedding for '{word}':\\n{embedding}\")\n",
        "print(\"Dimension:\", len(embedding))\n",
        "print(\"Type:\", type(embedding))\n",
        "print(\"Shape:\", embedding.shape)\n"
      ]
    },
    {
      "cell_type": "code",
      "source": [],
      "metadata": {
        "id": "hCO-I8kAgtQi"
      },
      "execution_count": null,
      "outputs": []
    }
  ]
}