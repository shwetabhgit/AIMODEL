{
  "nbformat": 4,
  "nbformat_minor": 0,
  "metadata": {
    "colab": {
      "provenance": [],
      "authorship_tag": "ABX9TyPR1qhwlZHGs/c+oNWQWKy2"
    },
    "kernelspec": {
      "name": "python3",
      "display_name": "Python 3"
    },
    "language_info": {
      "name": "python"
    }
  },
  "cells": [
    {
      "cell_type": "code",
      "execution_count": 4,
      "metadata": {
        "colab": {
          "base_uri": "https://localhost:8080/"
        },
        "id": "wgE7apR6JnHo",
        "outputId": "35f3e576-2a66-4dcb-e1d7-d6f3cf5f681c"
      },
      "outputs": [
        {
          "output_type": "stream",
          "name": "stdout",
          "text": [
            "Most similar audio files:\n",
            "2.wav: similarity=1.0000\n",
            "mukesh.wav: similarity=0.9822\n"
          ]
        }
      ],
      "source": [
        "import os\n",
        "import torch\n",
        "import torchaudio\n",
        "from scipy.spatial.distance import cosine\n",
        "# Removed urllib.request as we are no longer downloading files\n",
        "\n",
        "def extract_features(filepath):\n",
        "    waveform, sample_rate = torchaudio.load(filepath)\n",
        "    # Convert to mono\n",
        "    if waveform.shape[0] > 1:\n",
        "        waveform = torch.mean(waveform, dim=0, keepdim=True)\n",
        "    # Extract MFCC features\n",
        "    mfcc = torchaudio.transforms.MFCC(sample_rate=sample_rate, n_mfcc=40)(waveform)\n",
        "    # Take mean over time axis\n",
        "    return mfcc.mean(dim=2).squeeze().numpy()\n",
        "\n",
        "def find_similar_audio(uploaded_path, stored_dir, top_k=3):\n",
        "    uploaded_feat = extract_features(uploaded_path)\n",
        "    similarities = []\n",
        "    for fname in os.listdir(stored_dir):\n",
        "        if fname.endswith('.wav'):\n",
        "            stored_path = os.path.join(stored_dir, fname)\n",
        "            stored_feat = extract_features(stored_path)\n",
        "            sim = 1 - cosine(uploaded_feat, stored_feat)\n",
        "            similarities.append((fname, sim))\n",
        "    similarities.sort(key=lambda x: x[1], reverse=True)\n",
        "    return similarities[:top_k]\n",
        "\n",
        "if __name__ == \"__main__\":\n",
        "    # Directory containing stored audio files (all .wav)\n",
        "    stored_audio_dir = \"/content/sample_data\"\n",
        "    # Create the directory if it doesn't exist\n",
        "    os.makedirs(stored_audio_dir, exist_ok=True)\n",
        "    # Please place your local audio files (in .wav format) in the 'stored_audios' directory.\n",
        "\n",
        "    # For demo, assume you have an uploaded audio file in the stored_audios directory\n",
        "    # Replace \"your_uploaded_audio.wav\" with the actual filename of the audio you want to test\n",
        "    # Make sure this file exists in the 'stored_audios' directory\n",
        "    uploaded_audio_path = os.path.join(stored_audio_dir, \"2.wav\") # Example using one of the previous sample names\n",
        "\n",
        "    # Find top 3 most similar audio files\n",
        "    results = find_similar_audio(uploaded_audio_path, stored_audio_dir, top_k=2)\n",
        "    print(\"Most similar audio files:\")\n",
        "    for fname, score in results:\n",
        "        print(f\"{fname}: similarity={score:.4f}\")"
      ]
    }
  ]
}